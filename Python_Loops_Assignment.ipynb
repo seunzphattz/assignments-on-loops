{
 "cells": [
  {
   "cell_type": "markdown",
   "metadata": {
    "id": "IoQa2eN8bWTA"
   },
   "source": [
    "# 1.\n",
    "\n",
    "A particular zoo determines the price of admission based on the age of the guest.\n",
    "\n",
    "Guests 2 years of age and less are admitted without charge. Children between 3 and 12 years of age cost $14.00.\n",
    "\n",
    "Seniors aged 65 years and over cost $18.00.\n",
    "\n",
    "Admission for all other guests is $23.00.\n",
    "\n",
    "Create a program that begins by reading the ages of all of the guests in a group from the user, with one age entered on each line. The user will enter a blank line to indicate that there are no more guests in the group. Then your program should display the admission cost for the group with an appropriate message.\n",
    "\n",
    "The cost should be displayed using two decimal places."
   ]
  },
  {
   "cell_type": "code",
   "execution_count": 17,
   "metadata": {},
   "outputs": [
    {
     "name": "stdout",
     "output_type": "stream",
     "text": [
      "What is your age? 100\n",
      "price is $18\n"
     ]
    }
   ],
   "source": [
    "#age  < 2 ,price is free \n",
    "# 3 < age <=  p = 14\n",
    "#age > 65 ,price = 18\n",
    "\n",
    "age = input(\"What is your age? \")\n",
    "if int(age) <= 2:\n",
    "    print(\"Price is free! \")\n",
    "elif 3 <= int(age) <= 12:\n",
    "    print(\"price is $14\")\n",
    "elif int(age) >= 65:\n",
    "    print(\"price is $18\")\n",
    "    \n",
    "else:\n",
    "    print(\"price is $23\")"
   ]
  },
  {
   "cell_type": "markdown",
   "metadata": {
    "id": "93BM6vNHb6tx"
   },
   "source": [
    "# 2.\n",
    "\n",
    "A particular retailer is having a 60 percent off sale on a variety of discontinued products. \n",
    "\n",
    "The retailer would like to help its customers determine the reduced price of the merchandise by having a printed discount table on the shelf that shows the original prices and the prices after the discount has been applied. \n",
    "\n",
    "Write a program that uses a loop to generate this table, showing the original price, the discount amount, and the new price for purchases of $4.95, $9.95, $14.95, $19.95 and $24.95. \n",
    "\n",
    "Ensure that the discount amounts and the new prices are rounded to 2 decimal places when they are displayed.\n"
   ]
  },
  {
   "cell_type": "code",
   "execution_count": 27,
   "metadata": {},
   "outputs": [
    {
     "name": "stdout",
     "output_type": "stream",
     "text": [
      "The original price is [4.95, 9.95, 14.95, 19.95, 24.95] and the corresponding discounted price is [2.4, 5.4, 8.4, 11.4, 14.4]\n"
     ]
    }
   ],
   "source": [
    "price_list =[4.95, 9.95, 14.95, 19.95, 24.95]\n",
    "discount = 0.6\n",
    "\n",
    "discounted_price = []\n",
    "\n",
    "for price in price_list:\n",
    "    discounted_price.append(round(int(price) * 0.6,2) )\n",
    "    \n",
    "print(f\"The original price is {price_list} and the corresponding discounted price is {discounted_price}\")\n"
   ]
  },
  {
   "cell_type": "markdown",
   "metadata": {
    "id": "twwmmHWsioYl"
   },
   "source": [
    "## 3.\n",
    "\n",
    "lst=[10, 99, 98, 85, 22, 34, 78, 98, 12, 35, 13, 100, 80, 95]\n",
    "\n",
    "Using while loop, and if statement; iterate through the list and if there is a 100, print it with its index number. i.e.: \n",
    "\n",
    "\"There is a 100 at index no: 4\"\n",
    "\n"
   ]
  },
  {
   "cell_type": "code",
   "execution_count": 26,
   "metadata": {},
   "outputs": [
    {
     "name": "stdout",
     "output_type": "stream",
     "text": [
      "There is a 100 at index :  11\n"
     ]
    }
   ],
   "source": [
    "lst=[10, 99, 98, 85, 22, 34, 78, 98, 12, 35, 13, 100, 80, 95]\n",
    "\n",
    "length = len(lst)\n",
    "\n",
    "\n",
    "i = 0\n",
    "while i < length:\n",
    "    \n",
    "    if lst[i]== 100:\n",
    "        print(f\"There is a {lst[i]} at index : \",lst.index(lst[i]))\n",
    "        break\n",
    "    i += 1\n",
    "else:\n",
    "    print(\"The number is not available on the list.\")\n",
    "    \n",
    "    "
   ]
  },
  {
   "cell_type": "code",
   "execution_count": null,
   "metadata": {},
   "outputs": [],
   "source": []
  },
  {
   "cell_type": "markdown",
   "metadata": {
    "id": "PRRHzHgZjBZE"
   },
   "source": [
    "## 4.\n",
    "\n",
    "Write a python program to read three numbers (a,b,c) and check how many numbers between ‘a’ and ‘b’ are divisible by ‘c’"
   ]
  },
  {
   "cell_type": "code",
   "execution_count": 17,
   "metadata": {},
   "outputs": [
    {
     "ename": "AttributeError",
     "evalue": "'int' object has no attribute 'index'",
     "output_type": "error",
     "traceback": [
      "\u001b[1;31m---------------------------------------------------------------------------\u001b[0m",
      "\u001b[1;31mAttributeError\u001b[0m                            Traceback (most recent call last)",
      "\u001b[1;32m<ipython-input-17-f60d3ae4bf39>\u001b[0m in \u001b[0;36m<module>\u001b[1;34m\u001b[0m\n\u001b[0;32m      5\u001b[0m \u001b[1;32mfor\u001b[0m \u001b[0mnumber\u001b[0m \u001b[1;32min\u001b[0m \u001b[0mnumbers\u001b[0m\u001b[1;33m:\u001b[0m\u001b[1;33m\u001b[0m\u001b[1;33m\u001b[0m\u001b[0m\n\u001b[0;32m      6\u001b[0m     \u001b[1;32mif\u001b[0m \u001b[0ma\u001b[0m \u001b[1;33m%\u001b[0m \u001b[0mc\u001b[0m \u001b[1;33m==\u001b[0m \u001b[1;36m0\u001b[0m\u001b[1;33m:\u001b[0m\u001b[1;33m\u001b[0m\u001b[1;33m\u001b[0m\u001b[0m\n\u001b[1;32m----> 7\u001b[1;33m         \u001b[0mprint\u001b[0m\u001b[1;33m(\u001b[0m\u001b[1;34mf\"The number is divisible by {number.index(2)}\"\u001b[0m\u001b[1;33m)\u001b[0m\u001b[1;33m\u001b[0m\u001b[1;33m\u001b[0m\u001b[0m\n\u001b[0m\u001b[0;32m      8\u001b[0m \u001b[1;33m\u001b[0m\u001b[0m\n",
      "\u001b[1;31mAttributeError\u001b[0m: 'int' object has no attribute 'index'"
     ]
    }
   ],
   "source": [
    "\n",
    "a,b,c = [1,2,3]\n",
    "\n",
    "    \n"
   ]
  },
  {
   "cell_type": "markdown",
   "metadata": {
    "id": "aj0eqpwgjmLc"
   },
   "source": [
    "## 5.\n",
    "\n",
    "Create a for loop that prompts the user for a name 3 times, then appends each one to names."
   ]
  },
  {
   "cell_type": "code",
   "execution_count": 37,
   "metadata": {},
   "outputs": [
    {
     "name": "stdout",
     "output_type": "stream",
     "text": [
      "What is your name? Chima\n",
      "What is your name? tola\n",
      "What is your name? olu\n",
      "Chima\n",
      "tola\n",
      "olu\n"
     ]
    }
   ],
   "source": [
    "list =[]\n",
    "count = 0\n",
    "\n",
    "while count <= 2:  #using while loop to get the names 3 times\n",
    "    names = input(\"What is your name? \")\n",
    "    count += 1\n",
    "    list.append(names)\n",
    "    \n",
    "for name in list:\n",
    "    print(name)"
   ]
  },
  {
   "cell_type": "markdown",
   "metadata": {
    "id": "owfZVZ6Sksx7"
   },
   "source": [
    "## 6.\n",
    "\n",
    "Use a loop to print out every character in the string \"Python\", except the \"o\""
   ]
  },
  {
   "cell_type": "code",
   "execution_count": 23,
   "metadata": {},
   "outputs": [
    {
     "name": "stdout",
     "output_type": "stream",
     "text": [
      "P\n",
      "y\n",
      "t\n",
      "h\n",
      "n\n"
     ]
    }
   ],
   "source": [
    "p = \"Python\"\n",
    "for ch in p:\n",
    "    if ch == \"o\":\n",
    "        continue\n",
    "    print(ch)"
   ]
  },
  {
   "cell_type": "markdown",
   "metadata": {
    "id": "wGqS7DaYk_1F"
   },
   "source": [
    "## 7. \n",
    "\n",
    "Write a program that computes the average of a collection\n",
    "of values entered by the user. \n",
    "\n",
    "The user will enter 0 as a sentinel value to indicate\n",
    "that no further values will be provided. \n",
    "\n",
    "Your program should display an appropriate\n",
    "error message if the first value entered by the user is 0."
   ]
  },
  {
   "cell_type": "code",
   "execution_count": 36,
   "metadata": {
    "id": "wvJM7sUKlIJs"
   },
   "outputs": [
    {
     "name": "stdout",
     "output_type": "stream",
     "text": [
      "Error the first number can not be zero\n"
     ]
    }
   ],
   "source": [
    "values = [0,1,2,9,8,9,8,8,4]\n",
    "length_v = len(values)\n",
    "\n",
    "b = sum(values) / length_v\n",
    "\n",
    "for value in values:\n",
    "    if values[0]== 0:\n",
    "        print(\"Error the first number can not be zero\")\n",
    "        break\n",
    "else:\n",
    "    if b > 0:\n",
    "        print(f\"The average of the collection is {b}\")\n",
    "    else:\n",
    "        print(\"error\")\n",
    "        \n",
    "\n",
    "        \n",
    "    \n",
    "        \n",
    "    "
   ]
  }
 ],
 "metadata": {
  "colab": {
   "name": "Python Loops Assignment",
   "provenance": []
  },
  "kernelspec": {
   "display_name": "Python 3",
   "language": "python",
   "name": "python3"
  },
  "language_info": {
   "codemirror_mode": {
    "name": "ipython",
    "version": 3
   },
   "file_extension": ".py",
   "mimetype": "text/x-python",
   "name": "python",
   "nbconvert_exporter": "python",
   "pygments_lexer": "ipython3",
   "version": "3.8.8"
  }
 },
 "nbformat": 4,
 "nbformat_minor": 1
}
